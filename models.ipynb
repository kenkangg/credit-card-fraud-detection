{
 "cells": [
  {
   "cell_type": "code",
   "execution_count": 1,
   "metadata": {},
   "outputs": [
    {
     "name": "stderr",
     "output_type": "stream",
     "text": [
      "Using TensorFlow backend.\n"
     ]
    }
   ],
   "source": [
    "%matplotlib inline\n",
    "import pandas as pd\n",
    "import keras\n",
    "import numpy\n",
    "import sklearn\n",
    "from sklearn.linear_model import LogisticRegression\n",
    "import matplotlib.pyplot as plt\n",
    "from sklearn.metrics import accuracy_score, confusion_matrix, precision_recall_curve, auc\n",
    "from sklearn.utils import shuffle\n",
    "from keras.models import Sequential\n",
    "from keras.layers import Activation\n",
    "from keras.layers import Dense\n",
    "from keras.layers.core import Dropout"
   ]
  },
  {
   "cell_type": "code",
   "execution_count": 2,
   "metadata": {
    "collapsed": true
   },
   "outputs": [],
   "source": [
    "df = pd.read_csv(\"creditcard.csv\")\n",
    "df = shuffle(df)"
   ]
  },
  {
   "cell_type": "code",
   "execution_count": 3,
   "metadata": {},
   "outputs": [
    {
     "data": {
      "text/html": [
       "<div>\n",
       "<style>\n",
       "    .dataframe thead tr:only-child th {\n",
       "        text-align: right;\n",
       "    }\n",
       "\n",
       "    .dataframe thead th {\n",
       "        text-align: left;\n",
       "    }\n",
       "\n",
       "    .dataframe tbody tr th {\n",
       "        vertical-align: top;\n",
       "    }\n",
       "</style>\n",
       "<table border=\"1\" class=\"dataframe\">\n",
       "  <thead>\n",
       "    <tr style=\"text-align: right;\">\n",
       "      <th></th>\n",
       "      <th>V1</th>\n",
       "      <th>V2</th>\n",
       "      <th>V3</th>\n",
       "      <th>V4</th>\n",
       "      <th>V5</th>\n",
       "      <th>V6</th>\n",
       "      <th>V7</th>\n",
       "      <th>V8</th>\n",
       "      <th>V9</th>\n",
       "      <th>V10</th>\n",
       "      <th>...</th>\n",
       "      <th>V21</th>\n",
       "      <th>V22</th>\n",
       "      <th>V23</th>\n",
       "      <th>V24</th>\n",
       "      <th>V25</th>\n",
       "      <th>V26</th>\n",
       "      <th>V27</th>\n",
       "      <th>V28</th>\n",
       "      <th>Amount</th>\n",
       "      <th>Class</th>\n",
       "    </tr>\n",
       "  </thead>\n",
       "  <tbody>\n",
       "    <tr>\n",
       "      <th>84774</th>\n",
       "      <td>-4.078620</td>\n",
       "      <td>3.205694</td>\n",
       "      <td>-1.786165</td>\n",
       "      <td>-1.434787</td>\n",
       "      <td>-2.373592</td>\n",
       "      <td>-0.578623</td>\n",
       "      <td>-2.241494</td>\n",
       "      <td>3.296512</td>\n",
       "      <td>-0.216146</td>\n",
       "      <td>-0.438157</td>\n",
       "      <td>...</td>\n",
       "      <td>0.109126</td>\n",
       "      <td>-0.332338</td>\n",
       "      <td>0.358287</td>\n",
       "      <td>-0.304309</td>\n",
       "      <td>0.073656</td>\n",
       "      <td>0.781337</td>\n",
       "      <td>-0.299876</td>\n",
       "      <td>-0.100367</td>\n",
       "      <td>7.61</td>\n",
       "      <td>0</td>\n",
       "    </tr>\n",
       "    <tr>\n",
       "      <th>104344</th>\n",
       "      <td>1.126720</td>\n",
       "      <td>0.126060</td>\n",
       "      <td>0.836355</td>\n",
       "      <td>1.413985</td>\n",
       "      <td>-0.711269</td>\n",
       "      <td>-0.728228</td>\n",
       "      <td>-0.003950</td>\n",
       "      <td>-0.112337</td>\n",
       "      <td>0.452295</td>\n",
       "      <td>-0.184572</td>\n",
       "      <td>...</td>\n",
       "      <td>-0.232793</td>\n",
       "      <td>-0.538784</td>\n",
       "      <td>0.059949</td>\n",
       "      <td>0.694003</td>\n",
       "      <td>0.448524</td>\n",
       "      <td>-0.567716</td>\n",
       "      <td>0.037093</td>\n",
       "      <td>0.035574</td>\n",
       "      <td>29.99</td>\n",
       "      <td>0</td>\n",
       "    </tr>\n",
       "    <tr>\n",
       "      <th>163035</th>\n",
       "      <td>0.097816</td>\n",
       "      <td>1.013539</td>\n",
       "      <td>-0.321995</td>\n",
       "      <td>-0.630594</td>\n",
       "      <td>0.925247</td>\n",
       "      <td>-0.581911</td>\n",
       "      <td>0.892758</td>\n",
       "      <td>0.013208</td>\n",
       "      <td>-0.354344</td>\n",
       "      <td>-0.672738</td>\n",
       "      <td>...</td>\n",
       "      <td>-0.279143</td>\n",
       "      <td>-0.677547</td>\n",
       "      <td>0.094161</td>\n",
       "      <td>0.667680</td>\n",
       "      <td>-0.460366</td>\n",
       "      <td>0.085826</td>\n",
       "      <td>0.220668</td>\n",
       "      <td>0.075945</td>\n",
       "      <td>2.58</td>\n",
       "      <td>0</td>\n",
       "    </tr>\n",
       "    <tr>\n",
       "      <th>106290</th>\n",
       "      <td>-0.053090</td>\n",
       "      <td>-0.543237</td>\n",
       "      <td>0.894980</td>\n",
       "      <td>-2.206124</td>\n",
       "      <td>-1.486389</td>\n",
       "      <td>-0.076992</td>\n",
       "      <td>-1.857702</td>\n",
       "      <td>-2.690771</td>\n",
       "      <td>-2.109716</td>\n",
       "      <td>0.359578</td>\n",
       "      <td>...</td>\n",
       "      <td>-1.284110</td>\n",
       "      <td>0.486640</td>\n",
       "      <td>-0.254951</td>\n",
       "      <td>-0.175023</td>\n",
       "      <td>1.018289</td>\n",
       "      <td>-0.062302</td>\n",
       "      <td>0.055229</td>\n",
       "      <td>0.220650</td>\n",
       "      <td>68.00</td>\n",
       "      <td>0</td>\n",
       "    </tr>\n",
       "    <tr>\n",
       "      <th>116153</th>\n",
       "      <td>1.234012</td>\n",
       "      <td>0.335551</td>\n",
       "      <td>0.434732</td>\n",
       "      <td>0.773535</td>\n",
       "      <td>-0.566072</td>\n",
       "      <td>-1.269526</td>\n",
       "      <td>0.065719</td>\n",
       "      <td>-0.201683</td>\n",
       "      <td>0.071265</td>\n",
       "      <td>-0.271074</td>\n",
       "      <td>...</td>\n",
       "      <td>-0.271119</td>\n",
       "      <td>-0.802673</td>\n",
       "      <td>0.174904</td>\n",
       "      <td>0.660434</td>\n",
       "      <td>0.159156</td>\n",
       "      <td>0.075614</td>\n",
       "      <td>-0.025188</td>\n",
       "      <td>0.033175</td>\n",
       "      <td>1.29</td>\n",
       "      <td>0</td>\n",
       "    </tr>\n",
       "  </tbody>\n",
       "</table>\n",
       "<p>5 rows × 30 columns</p>\n",
       "</div>"
      ],
      "text/plain": [
       "              V1        V2        V3        V4        V5        V6        V7  \\\n",
       "84774  -4.078620  3.205694 -1.786165 -1.434787 -2.373592 -0.578623 -2.241494   \n",
       "104344  1.126720  0.126060  0.836355  1.413985 -0.711269 -0.728228 -0.003950   \n",
       "163035  0.097816  1.013539 -0.321995 -0.630594  0.925247 -0.581911  0.892758   \n",
       "106290 -0.053090 -0.543237  0.894980 -2.206124 -1.486389 -0.076992 -1.857702   \n",
       "116153  1.234012  0.335551  0.434732  0.773535 -0.566072 -1.269526  0.065719   \n",
       "\n",
       "              V8        V9       V10  ...         V21       V22       V23  \\\n",
       "84774   3.296512 -0.216146 -0.438157  ...    0.109126 -0.332338  0.358287   \n",
       "104344 -0.112337  0.452295 -0.184572  ...   -0.232793 -0.538784  0.059949   \n",
       "163035  0.013208 -0.354344 -0.672738  ...   -0.279143 -0.677547  0.094161   \n",
       "106290 -2.690771 -2.109716  0.359578  ...   -1.284110  0.486640 -0.254951   \n",
       "116153 -0.201683  0.071265 -0.271074  ...   -0.271119 -0.802673  0.174904   \n",
       "\n",
       "             V24       V25       V26       V27       V28  Amount  Class  \n",
       "84774  -0.304309  0.073656  0.781337 -0.299876 -0.100367    7.61      0  \n",
       "104344  0.694003  0.448524 -0.567716  0.037093  0.035574   29.99      0  \n",
       "163035  0.667680 -0.460366  0.085826  0.220668  0.075945    2.58      0  \n",
       "106290 -0.175023  1.018289 -0.062302  0.055229  0.220650   68.00      0  \n",
       "116153  0.660434  0.159156  0.075614 -0.025188  0.033175    1.29      0  \n",
       "\n",
       "[5 rows x 30 columns]"
      ]
     },
     "execution_count": 3,
     "metadata": {},
     "output_type": "execute_result"
    }
   ],
   "source": [
    "df = df.drop([\"Time\"], axis = 1)\n",
    "df.head()"
   ]
  },
  {
   "cell_type": "code",
   "execution_count": 4,
   "metadata": {},
   "outputs": [
    {
     "data": {
      "text/plain": [
       "284807"
      ]
     },
     "execution_count": 4,
     "metadata": {},
     "output_type": "execute_result"
    }
   ],
   "source": [
    "len(df)"
   ]
  },
  {
   "cell_type": "code",
   "execution_count": 5,
   "metadata": {},
   "outputs": [
    {
     "name": "stdout",
     "output_type": "stream",
     "text": [
      "(142403, 29)\n",
      "(71202, 29)\n",
      "(71202, 29)\n"
     ]
    }
   ],
   "source": [
    "train_data = df[0:int(len(df) * 0.5)]\n",
    "valid_data =  df[int(len(df) * 0.5):int(len(df) * 0.75)]\n",
    "test_data =  df[int(len(df) * .75):len(df)]\n",
    "\n",
    "\n",
    "train_features = train_data.iloc[:,0:len(train_data.columns) - 1].as_matrix()\n",
    "valid_features = valid_data.iloc[:,0:len(valid_data.columns) - 1].as_matrix()\n",
    "test_features = test_data.iloc[:,0:len(test_data.columns) - 1].as_matrix()\n",
    "\n",
    "train_labels = train_data.iloc[:, len(train_data.columns) - 1: len(train_data.columns)].as_matrix().squeeze()\n",
    "valid_labels = valid_data.iloc[:, len(valid_data.columns) - 1: len(valid_data.columns)].as_matrix().squeeze()\n",
    "test_labels = test_data.iloc[:, len(test_data.columns) - 1: len(test_data.columns)].as_matrix().squeeze()\n",
    "\n",
    "print(train_features.shape)\n",
    "print(valid_features.shape)\n",
    "print(test_features.shape)\n",
    "\n",
    "\n"
   ]
  },
  {
   "cell_type": "code",
   "execution_count": 19,
   "metadata": {
    "collapsed": true
   },
   "outputs": [],
   "source": [
    "#From Training Data, create undersampled\n",
    "non_fraud_data = train_data[train_data[\"Class\"] == 0]\n",
    "fraud_data = train_data[train_data[\"Class\"] == 1]\n",
    "non_fraud_sample = non_fraud_data.sample(len(fraud_data))\n",
    "frames = [fraud_data, non_fraud_sample]\n",
    "df = pd.concat([fraud_data,non_fraud_data])\n",
    "undersampled_df = pd.concat(frames)\n",
    "undersampled_df = shuffle(undersampled_df)\n",
    "undersampled_features = undersampled_df.iloc[:,0:len(undersampled_df.columns) - 1].as_matrix()\n",
    "undersampled_labels = undersampled_df.iloc[:, len(undersampled_df.columns) - 1: len(undersampled_df.columns)].as_matrix().squeeze()\n",
    "\n"
   ]
  },
  {
   "cell_type": "code",
   "execution_count": 24,
   "metadata": {},
   "outputs": [
    {
     "data": {
      "text/plain": [
       "<matplotlib.text.Text at 0x11d6ce748>"
      ]
     },
     "execution_count": 24,
     "metadata": {},
     "output_type": "execute_result"
    },
    {
     "data": {
      "image/png": "[encoded data removed]",
      "text/plain": [
       "<matplotlib.figure.Figure at 0x11d396208>"
      ]
     },
     "metadata": {},
     "output_type": "display_data"
    }
   ],
   "source": [
    "class_count = pd.value_counts(df['Class'], sort = True).sort_index()\n",
    "class_count.plot(kind = 'barh')\n",
    "plt.xlabel(\"Number of Cases\")\n",
    "plt.ylabel(\"Class\")\n",
    "plt.title(\"Original Class Proportions\")"
   ]
  },
  {
   "cell_type": "code",
   "execution_count": 25,
   "metadata": {},
   "outputs": [
    {
     "data": {
      "text/plain": [
       "<matplotlib.text.Text at 0x11d779278>"
      ]
     },
     "execution_count": 25,
     "metadata": {},
     "output_type": "execute_result"
    },
    {
     "data": {
      "image/png": "[encoded data removed]",
      "text/plain": [
       "<matplotlib.figure.Figure at 0x11d727b38>"
      ]
     },
     "metadata": {},
     "output_type": "display_data"
    }
   ],
   "source": [
    "class_count = pd.value_counts(undersampled_df['Class'], sort = True).sort_index()\n",
    "class_count.plot(kind = 'barh')\n",
    "plt.xlabel(\"Number of Cases\")\n",
    "plt.ylabel(\"Class\")\n",
    "plt.title(\"Undersampled Class Proportions\")"
   ]
  },
  {
   "cell_type": "code",
   "execution_count": 26,
   "metadata": {
    "collapsed": true
   },
   "outputs": [],
   "source": [
    "#create oversampled features and labels"
   ]
  },
  {
   "cell_type": "code",
   "execution_count": 27,
   "metadata": {},
   "outputs": [
    {
     "name": "stdout",
     "output_type": "stream",
     "text": [
      "142145\n"
     ]
    },
    {
     "data": {
      "text/plain": [
       "284290"
      ]
     },
     "execution_count": 27,
     "metadata": {},
     "output_type": "execute_result"
    }
   ],
   "source": [
    "non_fraud_data = train_data[train_data[\"Class\"] == 0]\n",
    "fraud_data = train_data[train_data[\"Class\"] == 1]\n",
    "fraud_sample = fraud_data.sample(len(non_fraud_data), replace = True)\n",
    "frames = [fraud_sample, non_fraud_data]\n",
    "oversampled_df = pd.concat(frames)\n",
    "oversampled_df = shuffle(oversampled_df)\n",
    "oversampled_features = oversampled_df.iloc[:,0:len(oversampled_df.columns) - 1].as_matrix()\n",
    "oversampled_labels = oversampled_df.iloc[:, len(oversampled_df.columns) - 1: len(oversampled_df.columns)].as_matrix().squeeze()\n",
    "\n",
    "print(len(non_fraud_data))\n",
    "len(oversampled_features)\n",
    "\n",
    "\n",
    "\n"
   ]
  },
  {
   "cell_type": "code",
   "execution_count": 28,
   "metadata": {},
   "outputs": [
    {
     "data": {
      "text/plain": [
       "<matplotlib.text.Text at 0x11da2fda0>"
      ]
     },
     "execution_count": 28,
     "metadata": {},
     "output_type": "execute_result"
    },
    {
     "data": {
      "image/png": "[encoded data removed]",
      "text/plain": [
       "<matplotlib.figure.Figure at 0x11cd94940>"
      ]
     },
     "metadata": {},
     "output_type": "display_data"
    }
   ],
   "source": [
    "class_count = pd.value_counts(oversampled_df['Class'], sort = True).sort_index()\n",
    "\n",
    "class_count.plot(kind = 'barh')\n",
    "plt.xlabel(\"Number of Cases\")\n",
    "plt.ylabel(\"Class\")\n",
    "plt.title(\"Oversampled Class Proportions\")"
   ]
  },
  {
   "cell_type": "code",
   "execution_count": 29,
   "metadata": {},
   "outputs": [
    {
     "name": "stdout",
     "output_type": "stream",
     "text": [
      "Accuracy:\n",
      "0.999227549788\n",
      "\n",
      "Confusion Matrix:\n",
      "[[True Positive  False Negative] \n",
      " [False Positive  True Negative]]\n",
      "[[   76    42]\n",
      " [   13 71071]]\n",
      "\n",
      "Area Under Precision Recall Curve:\n"
     ]
    },
    {
     "data": {
      "text/plain": [
       "0.76316267797047255"
      ]
     },
     "execution_count": 29,
     "metadata": {},
     "output_type": "execute_result"
    }
   ],
   "source": [
    "#Logistic Regression w/ Raw Data\n",
    "clf = LogisticRegression(penalty=\"l2\")\n",
    "clf.fit(train_features, train_labels)\n",
    "pred = clf.predict(test_features)\n",
    "print(\"Accuracy:\")\n",
    "print(accuracy_score(test_labels, pred))\n",
    "print(\"\\nConfusion Matrix:\")\n",
    "print(\"[[True Positive  False Negative] \\n [False Positive  True Negative]]\")\n",
    "print(confusion_matrix(test_labels, pred, labels=[1,0]))\n",
    "print(\"\\nArea Under Precision Recall Curve:\")\n",
    "lg_precision, lg_recall, _ = precision_recall_curve(test_labels, clf.decision_function(test_features))\n",
    "auc(lg_recall, lg_precision)"
   ]
  },
  {
   "cell_type": "code",
   "execution_count": 30,
   "metadata": {},
   "outputs": [
    {
     "name": "stdout",
     "output_type": "stream",
     "text": [
      "Accuracy:\n",
      "0.967739670234\n",
      "\n",
      "Confusion Matrix:\n",
      "[[True Positive  False Negative] \n",
      " [False Positive  True Negative]]\n",
      "[[  109     9]\n",
      " [ 2288 68796]]\n",
      "\n",
      "Area Under Precision Recall Curve:\n"
     ]
    },
    {
     "data": {
      "text/plain": [
       "0.68527454812626654"
      ]
     },
     "execution_count": 30,
     "metadata": {},
     "output_type": "execute_result"
    }
   ],
   "source": [
    "clf = LogisticRegression(penalty=\"l2\")\n",
    "clf.fit(undersampled_features, undersampled_labels)\n",
    "pred = clf.predict(test_features)\n",
    "print(\"Accuracy:\")\n",
    "print(accuracy_score(test_labels, pred))\n",
    "print(\"\\nConfusion Matrix:\")\n",
    "print(\"[[True Positive  False Negative] \\n [False Positive  True Negative]]\")\n",
    "print(confusion_matrix(test_labels, pred, labels = [1,0]))\n",
    "print(\"\\nArea Under Precision Recall Curve:\")\n",
    "lgu_precision, lgu_recall, _ = precision_recall_curve(test_labels, clf.decision_function(test_features))\n",
    "auc(lgu_recall, lgu_precision)"
   ]
  },
  {
   "cell_type": "code",
   "execution_count": 31,
   "metadata": {},
   "outputs": [
    {
     "name": "stdout",
     "output_type": "stream",
     "text": [
      "Accuracy:\n",
      "0.977907923935\n",
      "\n",
      "Confusion Matrix:\n",
      "[[True Positive  False Negative] \n",
      " [False Positive  True Negative]]\n",
      "[[  108    10]\n",
      " [ 1563 69521]]\n",
      "\n",
      "Area Under Precision Recall Curve:\n"
     ]
    },
    {
     "data": {
      "text/plain": [
       "0.74027655813037041"
      ]
     },
     "execution_count": 31,
     "metadata": {},
     "output_type": "execute_result"
    }
   ],
   "source": [
    "clf = LogisticRegression(penalty=\"l2\")\n",
    "clf.fit(oversampled_features, oversampled_labels)\n",
    "pred = clf.predict(test_features)\n",
    "print(\"Accuracy:\")\n",
    "print(accuracy_score(test_labels, pred))\n",
    "print(\"\\nConfusion Matrix:\")\n",
    "print(\"[[True Positive  False Negative] \\n [False Positive  True Negative]]\")\n",
    "print(confusion_matrix(test_labels, pred, labels=[1,0]))\n",
    "print(\"\\nArea Under Precision Recall Curve:\")\n",
    "lgo_precision, lgo_recall, _ = precision_recall_curve(test_labels, clf.decision_function(test_features))\n",
    "auc(lgo_recall, lgo_precision)"
   ]
  },
  {
   "cell_type": "code",
   "execution_count": 32,
   "metadata": {},
   "outputs": [
    {
     "data": {
      "text/plain": [
       "<matplotlib.text.Text at 0x11da9c940>"
      ]
     },
     "execution_count": 32,
     "metadata": {},
     "output_type": "execute_result"
    },
    {
     "data": {
      "image/png": "[encoded data removed]",
      "text/plain": [
       "<matplotlib.figure.Figure at 0x11daa4710>"
      ]
     },
     "metadata": {},
     "output_type": "display_data"
    }
   ],
   "source": [
    "plt.plot(lg_recall, lg_precision)\n",
    "plt.xlabel(\"Recall\")\n",
    "plt.ylabel(\"Precision\")"
   ]
  },
  {
   "cell_type": "code",
   "execution_count": 33,
   "metadata": {},
   "outputs": [
    {
     "data": {
      "text/plain": [
       "<matplotlib.text.Text at 0x11aee6ac8>"
      ]
     },
     "execution_count": 33,
     "metadata": {},
     "output_type": "execute_result"
    },
    {
     "data": {
      "image/png": "[encoded data removed]",
      "text/plain": [
       "<matplotlib.figure.Figure at 0x11da95208>"
      ]
     },
     "metadata": {},
     "output_type": "display_data"
    }
   ],
   "source": [
    "plt.plot(lgu_recall, lgu_precision)\n",
    "plt.xlabel(\"Recall\")\n",
    "plt.ylabel(\"Precision\")"
   ]
  },
  {
   "cell_type": "code",
   "execution_count": 34,
   "metadata": {
    "scrolled": true
   },
   "outputs": [
    {
     "data": {
      "text/plain": [
       "<matplotlib.text.Text at 0x11d4d04a8>"
      ]
     },
     "execution_count": 34,
     "metadata": {},
     "output_type": "execute_result"
    },
    {
     "data": {
      "image/png": "[encoded data removed]",
      "text/plain": [
       "<matplotlib.figure.Figure at 0x11d4f9710>"
      ]
     },
     "metadata": {},
     "output_type": "display_data"
    }
   ],
   "source": [
    "plt.plot(lgo_recall, lgo_precision)\n",
    "plt.xlabel(\"Recall\")\n",
    "plt.ylabel(\"Precision\")"
   ]
  },
  {
   "cell_type": "code",
   "execution_count": 35,
   "metadata": {},
   "outputs": [
    {
     "data": {
      "image/png": "[encoded data removed]",
      "text/plain": [
       "<matplotlib.figure.Figure at 0x11d4feb00>"
      ]
     },
     "metadata": {},
     "output_type": "display_data"
    }
   ],
   "source": [
    "fig, ax = plt.subplots()\n",
    "ax.plot(lg_recall, lg_precision, \"r--\", label= \"Original AUPRC\")\n",
    "ax.plot(lgu_recall, lgu_precision, \"g:\", label= \"Under-sampled AUPRC\")\n",
    "ax.plot(lgo_recall, lgo_precision, \"b\", label= \"Over-sampled AUPRC\")\n",
    "legend = ax.legend(loc=\"lower center\")\n",
    "plt.xlabel(\"Recall\")\n",
    "plt.ylabel(\"Precision\")\n",
    "plt.title(\"Area Under the Precision-Recall Curve (Logistic Regression)\")\n",
    "\n",
    "plt.show()\n"
   ]
  },
  {
   "cell_type": "code",
   "execution_count": 36,
   "metadata": {
    "collapsed": true
   },
   "outputs": [],
   "source": [
    "#Fully Connected Neural Network\n",
    "nn_model = Sequential()\n",
    "nn_model.add(Dense(29, input_shape=(29,)))\n",
    "nn_model.add(Activation('relu'))\n",
    "# nn_model.add(Dropout(0.25))\n",
    "nn_model.add(Dense(58, input_shape=(29,)))\n",
    "nn_model.add(Activation('relu'))\n",
    "nn_model.add(Dropout(0.25))\n",
    "nn_model.add(Dense(1))\n",
    "nn_model.add(Activation('sigmoid'))"
   ]
  },
  {
   "cell_type": "code",
   "execution_count": 37,
   "metadata": {
    "scrolled": true
   },
   "outputs": [
    {
     "name": "stdout",
     "output_type": "stream",
     "text": [
      "_________________________________________________________________\n",
      "Layer (type)                 Output Shape              Param #   \n",
      "=================================================================\n",
      "dense_1 (Dense)              (None, 29)                870       \n",
      "_________________________________________________________________\n",
      "activation_1 (Activation)    (None, 29)                0         \n",
      "_________________________________________________________________\n",
      "dense_2 (Dense)              (None, 58)                1740      \n",
      "_________________________________________________________________\n",
      "activation_2 (Activation)    (None, 58)                0         \n",
      "_________________________________________________________________\n",
      "dropout_1 (Dropout)          (None, 58)                0         \n",
      "_________________________________________________________________\n",
      "dense_3 (Dense)              (None, 1)                 59        \n",
      "_________________________________________________________________\n",
      "activation_3 (Activation)    (None, 1)                 0         \n",
      "=================================================================\n",
      "Total params: 2,669\n",
      "Trainable params: 2,669\n",
      "Non-trainable params: 0\n",
      "_________________________________________________________________\n"
     ]
    }
   ],
   "source": [
    "nn_model.summary()"
   ]
  },
  {
   "cell_type": "code",
   "execution_count": 38,
   "metadata": {
    "collapsed": true
   },
   "outputs": [],
   "source": [
    "nn_model.compile(optimizer='adam', loss='binary_crossentropy', metrics=['accuracy'])"
   ]
  },
  {
   "cell_type": "code",
   "execution_count": 39,
   "metadata": {
    "collapsed": true
   },
   "outputs": [],
   "source": [
    "#Fit Raw Data"
   ]
  },
  {
   "cell_type": "code",
   "execution_count": 40,
   "metadata": {},
   "outputs": [
    {
     "name": "stdout",
     "output_type": "stream",
     "text": [
      "Epoch 1/2\n",
      "142403/142403 [==============================] - 15s - loss: 0.0187 - acc: 0.9978    \n",
      "Epoch 2/2\n",
      "142403/142403 [==============================] - 14s - loss: 0.0089 - acc: 0.9991    \n"
     ]
    },
    {
     "data": {
      "text/plain": [
       "<keras.callbacks.History at 0x11d5693c8>"
      ]
     },
     "execution_count": 40,
     "metadata": {},
     "output_type": "execute_result"
    }
   ],
   "source": [
    "nn_model.fit(train_features, train_labels, epochs=2)"
   ]
  },
  {
   "cell_type": "code",
   "execution_count": null,
   "metadata": {
    "collapsed": true
   },
   "outputs": [],
   "source": [
    "pred1 = nn_model.predict(test_features)\n",
    "pred = [round(x[0]) for x in pred1]\n",
    "print(\"Accuracy:\")\n",
    "print(accuracy_score(test_labels, pred))\n",
    "print(\"\\nConfusion Matrix:\")\n",
    "print(\"[[True Positive  False Negative] \\n [False Positive  True Negative]]\")\n",
    "print(confusion_matrix(test_labels, pred, labels = [1,0]))\n",
    "print(\"\\nArea Under Precision Recall Curve:\")\n",
    "precision, recall, _ = precision_recall_curve(test_labels, pred1)\n",
    "print(auc(recall, precision))"
   ]
  },
  {
   "cell_type": "code",
   "execution_count": null,
   "metadata": {
    "collapsed": true,
    "scrolled": true
   },
   "outputs": [],
   "source": [
    "plt.plot(recall, precision)\n",
    "plt.xlabel(\"Recall\")\n",
    "plt.ylabel(\"Precision\")"
   ]
  },
  {
   "cell_type": "code",
   "execution_count": null,
   "metadata": {
    "collapsed": true
   },
   "outputs": [],
   "source": [
    "nn_model = Sequential()\n",
    "nn_model.add(Dense(29, input_shape=(29,)))\n",
    "nn_model.add(Activation('relu'))\n",
    "# nn_model.add(Dropout(0.25))\n",
    "nn_model.add(Dense(58, input_shape=(29,)))\n",
    "nn_model.add(Activation('relu'))\n",
    "nn_model.add(Dropout(0.25))\n",
    "nn_model.add(Dense(1))\n",
    "nn_model.add(Activation('sigmoid'))\n",
    "nn_model.compile(optimizer='adam', loss='binary_crossentropy', metrics=['accuracy'])"
   ]
  },
  {
   "cell_type": "code",
   "execution_count": null,
   "metadata": {
    "collapsed": true
   },
   "outputs": [],
   "source": [
    "#Fit Undersampled\n",
    "nn_model.fit(undersampled_features, undersampled_labels, epochs=2)"
   ]
  },
  {
   "cell_type": "code",
   "execution_count": null,
   "metadata": {
    "collapsed": true,
    "scrolled": true
   },
   "outputs": [],
   "source": [
    "pred1 = nn_model.predict(test_features)\n",
    "pred = [round(x[0]) for x in pred1]\n",
    "print(\"Accuracy:\")\n",
    "print(accuracy_score(test_labels, pred))\n",
    "print(\"\\nConfusion Matrix:\")\n",
    "print(\"[[True Positive  False Negative] \\n [False Positive  True Negative]]\")\n",
    "print(confusion_matrix(test_labels, pred, labels = [1,0]))\n",
    "print(\"\\nArea Under Precision Recall Curve:\")\n",
    "us_precision, us_recall, _ = precision_recall_curve(test_labels, pred1)\n",
    "print(auc(us_recall, us_precision))"
   ]
  },
  {
   "cell_type": "code",
   "execution_count": null,
   "metadata": {
    "collapsed": true,
    "scrolled": true
   },
   "outputs": [],
   "source": [
    "plt.plot(us_recall, us_precision)\n",
    "plt.xlabel(\"Recall\")\n",
    "plt.ylabel(\"Precision\")"
   ]
  },
  {
   "cell_type": "code",
   "execution_count": null,
   "metadata": {
    "collapsed": true
   },
   "outputs": [],
   "source": [
    "nn_model = Sequential()\n",
    "nn_model.add(Dense(29, input_shape=(29,)))\n",
    "nn_model.add(Activation('relu'))\n",
    "# nn_model.add(Dropout(0.25))\n",
    "nn_model.add(Dense(58, input_shape=(29,)))\n",
    "nn_model.add(Activation('relu'))\n",
    "nn_model.add(Dropout(0.25))\n",
    "nn_model.add(Dense(1))\n",
    "nn_model.add(Activation('sigmoid'))\n",
    "nn_model.compile(optimizer='adam', loss='binary_crossentropy', metrics=['accuracy'])"
   ]
  },
  {
   "cell_type": "code",
   "execution_count": null,
   "metadata": {
    "collapsed": true
   },
   "outputs": [],
   "source": [
    "#Fit Oversampled"
   ]
  },
  {
   "cell_type": "code",
   "execution_count": null,
   "metadata": {
    "collapsed": true,
    "scrolled": true
   },
   "outputs": [],
   "source": [
    "nn_model.fit(oversampled_features, oversampled_labels, epochs=5)"
   ]
  },
  {
   "cell_type": "code",
   "execution_count": null,
   "metadata": {
    "collapsed": true,
    "scrolled": false
   },
   "outputs": [],
   "source": [
    "pred1 = nn_model.predict(test_features)\n",
    "pred = [round(x[0]) for x in pred1]\n",
    "print(\"Accuracy:\")\n",
    "print(accuracy_score(test_labels, pred))\n",
    "print(\"\\nConfusion Matrix:\")\n",
    "print(\"[[True Positive  False Negative] \\n [False Positive  True Negative]]\")\n",
    "print(confusion_matrix(test_labels, pred, labels = [1,0]))\n",
    "print(\"\\nArea Under Precision Recall Curve:\")\n",
    "os_precision, os_recall, _ = precision_recall_curve(test_labels, pred1)\n",
    "print(auc(os_recall, os_precision))\n",
    "pred1"
   ]
  },
  {
   "cell_type": "code",
   "execution_count": null,
   "metadata": {
    "collapsed": true
   },
   "outputs": [],
   "source": [
    "plt.plot(os_recall, os_precision)\n",
    "plt.xlabel(\"Recall\")\n",
    "plt.ylabel(\"Precision\")"
   ]
  },
  {
   "cell_type": "code",
   "execution_count": null,
   "metadata": {
    "collapsed": true
   },
   "outputs": [],
   "source": [
    "fig, ax = plt.subplots()\n",
    "ax.plot(recall, precision, \"r--\", label= \"Original AUPRC\")\n",
    "ax.plot(us_recall, us_precision, \"g:\", label= \"Under-sampled AUPRC\")\n",
    "ax.plot(os_recall, os_precision, \"b\", label= \"Over-sampled AUPRC\")\n",
    "legend = ax.legend(loc=\"lower center\")\n",
    "plt.xlabel(\"Recall\")\n",
    "plt.ylabel(\"Precision\")\n",
    "plt.title(\"Area Under the Precision-Recall Curve (Neural Network)\")\n",
    "\n",
    "plt.show()\n"
   ]
  },
  {
   "cell_type": "code",
   "execution_count": 14,
   "metadata": {
    "collapsed": true
   },
   "outputs": [],
   "source": [
    "from sklearn.ensemble import RandomForestClassifier"
   ]
  },
  {
   "cell_type": "code",
   "execution_count": 35,
   "metadata": {
    "collapsed": true
   },
   "outputs": [],
   "source": [
    "frst = RandomForestClassifier(n_estimators = 2, oob_score=True)"
   ]
  },
  {
   "cell_type": "code",
   "execution_count": 36,
   "metadata": {
    "scrolled": true
   },
   "outputs": [
    {
     "name": "stderr",
     "output_type": "stream",
     "text": [
      "/usr/local/lib/python3.6/site-packages/sklearn/ensemble/forest.py:439: UserWarning: Some inputs do not have OOB scores. This probably means too few trees were used to compute any reliable oob estimates.\n",
      "  warn(\"Some inputs do not have OOB scores. \"\n",
      "/usr/local/lib/python3.6/site-packages/sklearn/ensemble/forest.py:444: RuntimeWarning: invalid value encountered in true_divide\n",
      "  predictions[k].sum(axis=1)[:, np.newaxis])\n"
     ]
    },
    {
     "data": {
      "text/plain": [
       "RandomForestClassifier(bootstrap=True, class_weight=None, criterion='gini',\n",
       "            max_depth=None, max_features='auto', max_leaf_nodes=None,\n",
       "            min_impurity_split=1e-07, min_samples_leaf=1,\n",
       "            min_samples_split=2, min_weight_fraction_leaf=0.0,\n",
       "            n_estimators=2, n_jobs=1, oob_score=True, random_state=None,\n",
       "            verbose=0, warm_start=False)"
      ]
     },
     "execution_count": 36,
     "metadata": {},
     "output_type": "execute_result"
    }
   ],
   "source": [
    "frst.fit(oversampled_features, oversampled_labels)"
   ]
  },
  {
   "cell_type": "code",
   "execution_count": 37,
   "metadata": {},
   "outputs": [
    {
     "name": "stdout",
     "output_type": "stream",
     "text": [
      "Accuracy:\n",
      "0.999044970647\n",
      "\n",
      "Confusion Matrix:\n",
      "[[True Positive  False Negative] \n",
      " [False Positive  True Negative]]\n",
      "[[   71    59]\n",
      " [    9 71063]]\n",
      "\n",
      "Area Under Precision Recall Curve:\n",
      "0.717241237282\n"
     ]
    },
    {
     "data": {
      "text/plain": [
       "<matplotlib.text.Text at 0x1125e5e48>"
      ]
     },
     "execution_count": 37,
     "metadata": {},
     "output_type": "execute_result"
    },
    {
     "data": {
      "image/png": "[encoded data removed]",
      "text/plain": [
       "<matplotlib.figure.Figure at 0x1125ec160>"
      ]
     },
     "metadata": {},
     "output_type": "display_data"
    }
   ],
   "source": [
    "pred = frst.predict(valid_features)\n",
    "# pred = [round(x[0]) for x in pred1]\n",
    "print(\"Accuracy:\")\n",
    "print(accuracy_score(valid_labels, pred))\n",
    "print(\"\\nConfusion Matrix:\")\n",
    "print(\"[[True Positive  False Negative] \\n [False Positive  True Negative]]\")\n",
    "print(confusion_matrix(valid_labels, pred, labels = [1,0]))\n",
    "print(\"\\nArea Under Precision Recall Curve:\")\n",
    "f_precision, f_recall, _ = precision_recall_curve(valid_labels, pred)\n",
    "print(auc(f_recall, f_precision))\n",
    "pred1\n",
    "plt.plot(f_precision, f_recall)\n",
    "plt.xlabel(\"Recall\")\n",
    "plt.ylabel(\"Precision\")"
   ]
  },
  {
   "cell_type": "code",
   "execution_count": 92,
   "metadata": {},
   "outputs": [
    {
     "data": {
      "text/plain": [
       "array([ 1.,  0.])"
      ]
     },
     "execution_count": 92,
     "metadata": {},
     "output_type": "execute_result"
    }
   ],
   "source": [
    "frst.predict_proba(valid_features)"
   ]
  },
  {
   "cell_type": "code",
   "execution_count": 93,
   "metadata": {
    "collapsed": true
   },
   "outputs": [],
   "source": [
    "from sklearn.cluster import KMeans"
   ]
  },
  {
   "cell_type": "code",
   "execution_count": 94,
   "metadata": {
    "collapsed": true
   },
   "outputs": [],
   "source": [
    "clf = KMeans(n_clusters=2)"
   ]
  },
  {
   "cell_type": "code",
   "execution_count": 95,
   "metadata": {},
   "outputs": [
    {
     "data": {
      "text/plain": [
       "KMeans(algorithm='auto', copy_x=True, init='k-means++', max_iter=300,\n",
       "    n_clusters=2, n_init=10, n_jobs=1, precompute_distances='auto',\n",
       "    random_state=None, tol=0.0001, verbose=0)"
      ]
     },
     "execution_count": 95,
     "metadata": {},
     "output_type": "execute_result"
    }
   ],
   "source": [
    "clf.fit(train_features, train_labels)"
   ]
  },
  {
   "cell_type": "code",
   "execution_count": 96,
   "metadata": {},
   "outputs": [
    {
     "data": {
      "text/plain": [
       "array([0, 0, 0, ..., 0, 0, 0], dtype=int32)"
      ]
     },
     "execution_count": 96,
     "metadata": {},
     "output_type": "execute_result"
    }
   ],
   "source": [
    "clf.predict(train_features)"
   ]
  },
  {
   "cell_type": "code",
   "execution_count": 254,
   "metadata": {
    "collapsed": true
   },
   "outputs": [],
   "source": [
    "from sklearn.svm import LinearSVC"
   ]
  },
  {
   "cell_type": "code",
   "execution_count": 255,
   "metadata": {
    "collapsed": true
   },
   "outputs": [],
   "source": [
    "clf = LinearSVC()"
   ]
  },
  {
   "cell_type": "code",
   "execution_count": 256,
   "metadata": {},
   "outputs": [
    {
     "data": {
      "text/plain": [
       "LinearSVC(C=1.0, class_weight=None, dual=True, fit_intercept=True,\n",
       "     intercept_scaling=1, loss='squared_hinge', max_iter=1000,\n",
       "     multi_class='ovr', penalty='l2', random_state=None, tol=0.0001,\n",
       "     verbose=0)"
      ]
     },
     "execution_count": 256,
     "metadata": {},
     "output_type": "execute_result"
    }
   ],
   "source": [
    "clf.fit(train_features, train_labels)"
   ]
  },
  {
   "cell_type": "code",
   "execution_count": 257,
   "metadata": {},
   "outputs": [
    {
     "name": "stdout",
     "output_type": "stream",
     "text": [
      "Accuracy:\n",
      "0.999438218028\n",
      "\n",
      "Confusion Matrix:\n",
      "[[True Positive  False Negative] \n",
      " [False Positive  True Negative]]\n",
      "[[   83    34]\n",
      " [    6 71079]]\n",
      "\n",
      "Area Under Precision Recall Curve:\n",
      "0.787640767007\n"
     ]
    },
    {
     "data": {
      "text/plain": [
       "<matplotlib.text.Text at 0x135e322e8>"
      ]
     },
     "execution_count": 257,
     "metadata": {},
     "output_type": "execute_result"
    },
    {
     "data": {
      "image/png": "[encoded data removed]",
      "text/plain": [
       "<matplotlib.figure.Figure at 0x1359932e8>"
      ]
     },
     "metadata": {},
     "output_type": "display_data"
    }
   ],
   "source": [
    "pred = clf.predict(test_features)\n",
    "# pred = [round(x[0]) for x in pred1]\n",
    "print(\"Accuracy:\")\n",
    "print(accuracy_score(test_labels, pred))\n",
    "print(\"\\nConfusion Matrix:\")\n",
    "print(\"[[True Positive  False Negative] \\n [False Positive  True Negative]]\")\n",
    "print(confusion_matrix(test_labels, pred, labels = [1,0]))\n",
    "print(\"\\nArea Under Precision Recall Curve:\")\n",
    "sg_precision, sg_recall, _ = precision_recall_curve(test_labels, clf.decision_function(test_features))\n",
    "print(auc(sg_recall, sg_precision))\n",
    "plt.plot(sg_recall, sg_precision)\n",
    "plt.xlabel(\"Recall\")\n",
    "plt.ylabel(\"Precision\")"
   ]
  },
  {
   "cell_type": "code",
   "execution_count": 258,
   "metadata": {},
   "outputs": [
    {
     "data": {
      "text/plain": [
       "LinearSVC(C=1.0, class_weight=None, dual=True, fit_intercept=True,\n",
       "     intercept_scaling=1, loss='squared_hinge', max_iter=1000,\n",
       "     multi_class='ovr', penalty='l2', random_state=None, tol=0.0001,\n",
       "     verbose=0)"
      ]
     },
     "execution_count": 258,
     "metadata": {},
     "output_type": "execute_result"
    }
   ],
   "source": [
    "clf = LinearSVC()\n",
    "clf.fit(undersampled_features,undersampled_labels)"
   ]
  },
  {
   "cell_type": "code",
   "execution_count": 259,
   "metadata": {},
   "outputs": [
    {
     "name": "stdout",
     "output_type": "stream",
     "text": [
      "Accuracy:\n",
      "0.961489845791\n",
      "\n",
      "Confusion Matrix:\n",
      "[[True Positive  False Negative] \n",
      " [False Positive  True Negative]]\n",
      "[[  101    16]\n",
      " [ 2726 68359]]\n",
      "\n",
      "Area Under Precision Recall Curve:\n",
      "0.490441663313\n"
     ]
    },
    {
     "data": {
      "text/plain": [
       "<matplotlib.text.Text at 0x1360c7c88>"
      ]
     },
     "execution_count": 259,
     "metadata": {},
     "output_type": "execute_result"
    },
    {
     "data": {
      "image/png": "[encoded data removed]",
      "text/plain": [
       "<matplotlib.figure.Figure at 0x12eb47a90>"
      ]
     },
     "metadata": {},
     "output_type": "display_data"
    }
   ],
   "source": [
    "pred = clf.predict(test_features)\n",
    "# pred = [round(x[0]) for x in pred1]\n",
    "print(\"Accuracy:\")\n",
    "print(accuracy_score(test_labels, pred))\n",
    "print(\"\\nConfusion Matrix:\")\n",
    "print(\"[[True Positive  False Negative] \\n [False Positive  True Negative]]\")\n",
    "print(confusion_matrix(test_labels, pred, labels = [1,0]))\n",
    "print(\"\\nArea Under Precision Recall Curve:\")\n",
    "su_precision, su_recall, _ = precision_recall_curve(test_labels, clf.decision_function(test_features))\n",
    "print(auc(su_recall, su_precision))\n",
    "plt.plot(su_recall, su_precision)\n",
    "plt.xlabel(\"Recall\")\n",
    "plt.ylabel(\"Precision\")\n"
   ]
  },
  {
   "cell_type": "code",
   "execution_count": 260,
   "metadata": {},
   "outputs": [
    {
     "data": {
      "text/plain": [
       "LinearSVC(C=1.0, class_weight=None, dual=True, fit_intercept=True,\n",
       "     intercept_scaling=1, loss='squared_hinge', max_iter=1000,\n",
       "     multi_class='ovr', penalty='l2', random_state=None, tol=0.0001,\n",
       "     verbose=0)"
      ]
     },
     "execution_count": 260,
     "metadata": {},
     "output_type": "execute_result"
    }
   ],
   "source": [
    "clf = LinearSVC()\n",
    "clf.fit(oversampled_features,oversampled_labels)"
   ]
  },
  {
   "cell_type": "code",
   "execution_count": 261,
   "metadata": {},
   "outputs": [
    {
     "name": "stdout",
     "output_type": "stream",
     "text": [
      "Accuracy:\n",
      "0.984059436533\n",
      "\n",
      "Confusion Matrix:\n",
      "[[True Positive  False Negative] \n",
      " [False Positive  True Negative]]\n",
      "[[   97    20]\n",
      " [ 1115 69970]]\n",
      "\n",
      "Area Under Precision Recall Curve:\n",
      "0.676273190225\n"
     ]
    },
    {
     "data": {
      "text/plain": [
       "<matplotlib.text.Text at 0x137c20390>"
      ]
     },
     "execution_count": 261,
     "metadata": {},
     "output_type": "execute_result"
    },
    {
     "data": {
      "image/png": "[encoded data removed]",
      "text/plain": [
       "<matplotlib.figure.Figure at 0x12eb47710>"
      ]
     },
     "metadata": {},
     "output_type": "display_data"
    }
   ],
   "source": [
    "pred = clf.predict(test_features)\n",
    "# pred = [round(x[0]) for x in pred1]\n",
    "print(\"Accuracy:\")\n",
    "print(accuracy_score(test_labels, pred))\n",
    "print(\"\\nConfusion Matrix:\")\n",
    "print(\"[[True Positive  False Negative] \\n [False Positive  True Negative]]\")\n",
    "print(confusion_matrix(test_labels, pred, labels = [1,0]))\n",
    "print(\"\\nArea Under Precision Recall Curve:\")\n",
    "s_precision, s_recall, _ = precision_recall_curve(test_labels, clf.decision_function(test_features))\n",
    "print(auc(s_recall, s_precision))\n",
    "plt.plot(s_recall, s_precision)\n",
    "plt.xlabel(\"Recall\")\n",
    "plt.ylabel(\"Precision\")"
   ]
  },
  {
   "cell_type": "code",
   "execution_count": 262,
   "metadata": {},
   "outputs": [
    {
     "data": {
      "image/png": "[encoded data removed]",
      "text/plain": [
       "<matplotlib.figure.Figure at 0x137baa630>"
      ]
     },
     "metadata": {},
     "output_type": "display_data"
    }
   ],
   "source": [
    "fig, ax = plt.subplots()\n",
    "ax.plot(sg_recall, sg_precision, \"r--\", label= \"Original AUPRC\")\n",
    "ax.plot(su_recall, su_precision, \"g:\", label= \"Under-sampled AUPRC\")\n",
    "ax.plot(s_recall, s_precision, \"b\", label= \"Over-sampled AUPRC\")\n",
    "legend = ax.legend(loc=\"lower center\")\n",
    "plt.xlabel(\"Recall\")\n",
    "plt.ylabel(\"Precision\")\n",
    "plt.title(\"Area Under the Precision-Recall Curve (SVM)\")\n",
    "\n",
    "plt.show()"
   ]
  },
  {
   "cell_type": "code",
   "execution_count": null,
   "metadata": {
    "collapsed": true
   },
   "outputs": [],
   "source": []
  }
 ],
 "metadata": {
  "kernelspec": {
   "display_name": "Python [conda env:practice]",
   "language": "python",
   "name": "conda-env-practice-py"
  },
  "language_info": {
   "codemirror_mode": {
    "name": "ipython",
    "version": 3
   },
   "file_extension": ".py",
   "mimetype": "text/x-python",
   "name": "python",
   "nbconvert_exporter": "python",
   "pygments_lexer": "ipython3",
   "version": "3.6.1"
  }
 },
 "nbformat": 4,
 "nbformat_minor": 2
}
